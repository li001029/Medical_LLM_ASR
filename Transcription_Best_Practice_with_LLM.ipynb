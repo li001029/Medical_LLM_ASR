{
  "cells": [
    {
      "cell_type": "markdown",
      "metadata": {
        "id": "view-in-github",
        "colab_type": "text"
      },
      "source": [
        "<a href=\"https://colab.research.google.com/github/li001029/Medical_LLM_ASR/blob/main/Transcription_Best_Practice_with_LLM.ipynb\" target=\"_parent\"><img src=\"https://colab.research.google.com/assets/colab-badge.svg\" alt=\"Open In Colab\"/></a>"
      ]
    },
    {
      "cell_type": "code",
      "source": [
        "pip install openai"
      ],
      "metadata": {
        "id": "aUPt_ZmwRE48",
        "outputId": "00c78e4c-f1fb-4b9c-826a-732196e3965d",
        "colab": {
          "base_uri": "https://localhost:8080/"
        }
      },
      "execution_count": 6,
      "outputs": [
        {
          "output_type": "stream",
          "name": "stdout",
          "text": [
            "Collecting openai\n",
            "  Downloading openai-1.43.0-py3-none-any.whl.metadata (22 kB)\n",
            "Requirement already satisfied: anyio<5,>=3.5.0 in /usr/local/lib/python3.10/dist-packages (from openai) (3.7.1)\n",
            "Requirement already satisfied: distro<2,>=1.7.0 in /usr/lib/python3/dist-packages (from openai) (1.7.0)\n",
            "Collecting httpx<1,>=0.23.0 (from openai)\n",
            "  Downloading httpx-0.27.2-py3-none-any.whl.metadata (7.1 kB)\n",
            "Collecting jiter<1,>=0.4.0 (from openai)\n",
            "  Downloading jiter-0.5.0-cp310-cp310-manylinux_2_17_x86_64.manylinux2014_x86_64.whl.metadata (3.6 kB)\n",
            "Requirement already satisfied: pydantic<3,>=1.9.0 in /usr/local/lib/python3.10/dist-packages (from openai) (2.8.2)\n",
            "Requirement already satisfied: sniffio in /usr/local/lib/python3.10/dist-packages (from openai) (1.3.1)\n",
            "Requirement already satisfied: tqdm>4 in /usr/local/lib/python3.10/dist-packages (from openai) (4.66.5)\n",
            "Requirement already satisfied: typing-extensions<5,>=4.11 in /usr/local/lib/python3.10/dist-packages (from openai) (4.12.2)\n",
            "Requirement already satisfied: idna>=2.8 in /usr/local/lib/python3.10/dist-packages (from anyio<5,>=3.5.0->openai) (3.8)\n",
            "Requirement already satisfied: exceptiongroup in /usr/local/lib/python3.10/dist-packages (from anyio<5,>=3.5.0->openai) (1.2.2)\n",
            "Requirement already satisfied: certifi in /usr/local/lib/python3.10/dist-packages (from httpx<1,>=0.23.0->openai) (2024.7.4)\n",
            "Collecting httpcore==1.* (from httpx<1,>=0.23.0->openai)\n",
            "  Downloading httpcore-1.0.5-py3-none-any.whl.metadata (20 kB)\n",
            "Collecting h11<0.15,>=0.13 (from httpcore==1.*->httpx<1,>=0.23.0->openai)\n",
            "  Downloading h11-0.14.0-py3-none-any.whl.metadata (8.2 kB)\n",
            "Requirement already satisfied: annotated-types>=0.4.0 in /usr/local/lib/python3.10/dist-packages (from pydantic<3,>=1.9.0->openai) (0.7.0)\n",
            "Requirement already satisfied: pydantic-core==2.20.1 in /usr/local/lib/python3.10/dist-packages (from pydantic<3,>=1.9.0->openai) (2.20.1)\n",
            "Downloading openai-1.43.0-py3-none-any.whl (365 kB)\n",
            "\u001b[2K   \u001b[90m━━━━━━━━━━━━━━━━━━━━━━━━━━━━━━━━━━━━━━━━\u001b[0m \u001b[32m365.7/365.7 kB\u001b[0m \u001b[31m8.5 MB/s\u001b[0m eta \u001b[36m0:00:00\u001b[0m\n",
            "\u001b[?25hDownloading httpx-0.27.2-py3-none-any.whl (76 kB)\n",
            "\u001b[2K   \u001b[90m━━━━━━━━━━━━━━━━━━━━━━━━━━━━━━━━━━━━━━━━\u001b[0m \u001b[32m76.4/76.4 kB\u001b[0m \u001b[31m6.1 MB/s\u001b[0m eta \u001b[36m0:00:00\u001b[0m\n",
            "\u001b[?25hDownloading httpcore-1.0.5-py3-none-any.whl (77 kB)\n",
            "\u001b[2K   \u001b[90m━━━━━━━━━━━━━━━━━━━━━━━━━━━━━━━━━━━━━━━━\u001b[0m \u001b[32m77.9/77.9 kB\u001b[0m \u001b[31m6.5 MB/s\u001b[0m eta \u001b[36m0:00:00\u001b[0m\n",
            "\u001b[?25hDownloading jiter-0.5.0-cp310-cp310-manylinux_2_17_x86_64.manylinux2014_x86_64.whl (318 kB)\n",
            "\u001b[2K   \u001b[90m━━━━━━━━━━━━━━━━━━━━━━━━━━━━━━━━━━━━━━━━\u001b[0m \u001b[32m318.9/318.9 kB\u001b[0m \u001b[31m25.6 MB/s\u001b[0m eta \u001b[36m0:00:00\u001b[0m\n",
            "\u001b[?25hDownloading h11-0.14.0-py3-none-any.whl (58 kB)\n",
            "\u001b[2K   \u001b[90m━━━━━━━━━━━━━━━━━━━━━━━━━━━━━━━━━━━━━━━━\u001b[0m \u001b[32m58.3/58.3 kB\u001b[0m \u001b[31m5.2 MB/s\u001b[0m eta \u001b[36m0:00:00\u001b[0m\n",
            "\u001b[?25hInstalling collected packages: jiter, h11, httpcore, httpx, openai\n",
            "Successfully installed h11-0.14.0 httpcore-1.0.5 httpx-0.27.2 jiter-0.5.0 openai-1.43.0\n"
          ]
        }
      ]
    },
    {
      "cell_type": "code",
      "source": [
        "from openai import OpenAI\n",
        "# add your openai api-key here\n",
        "client = OpenAI(api_key = \"\")\n",
        "# change the file directory correspondingly\n",
        "audio_file= open(\"./recording/record1.wav\", \"rb\")\n",
        "transcription = client.audio.transcriptions.create(\n",
        "  model=\"whisper-1\",\n",
        "  file=audio_file\n",
        ")\n",
        "print(transcription.text)"
      ],
      "metadata": {
        "id": "j8eca1oyQsCv",
        "colab": {
          "base_uri": "https://localhost:8080/"
        },
        "outputId": "f5e06f18-0c9a-451f-c9c2-7173e53aba1e"
      },
      "execution_count": 7,
      "outputs": [
        {
          "output_type": "stream",
          "name": "stdout",
          "text": [
            "This cardiology, um, consultation note for Mr. John Smith, PIN number 1-2-3-4-5-6-7-8-9-0-1-1. Reason for consultation. This neon heart failure symptoms, so she's in the request for consultation. Doug Smith, his chest blistering illness. This person, 6-year-old young man with no significant transplanted blood. She was diagnosed with COVID infection a few months ago. Period. Patient has been having symptoms of dyspnea and leg swelling since that time. Period. He does not have any prior history of CID, heart failure, or leukemias. Period. Patient does not have any family history of premature CID or sudden cardiac death or heart failure. Period. Patient presented with similar symptoms and was noted to have significant volume overload. Period. A cardiogram showed LVFO 15-20%, which is neon heart failure. Period. Patient denies any other cardiovascular symptoms. Period. Past medical history as above. Medications reviewed. Allergies, none. Social history, no history of smoking or drug use, occasional alcohol use. Family history, non-relevant. Rabies system, a 14-point rabies system, is positive for leg swelling, dyspnea, and orthopnea, negative for chest pain, chest pressure, nausea, vomiting, abdominal pain, and neurological symptoms. Examination. Temperature, 98.4. Pulse, 98 beats per minute. Blood pressure, 120 over 78 mmHg. Fibrillation, 98%. General patient alert, oriented, comfortable. Serious, regular, no normal. Lungs, no wheeze or crackles. Lungs, no wheeze, mild crackles, abdominal softness, no tenderness. Legs, no edema. CNS, no. Focal neurological deficits. Skin, normal. Laps. Sodium, 110. Sorry. Sodium, 140. Potassium, 3.8. BN20, greater than 1.1. AST, LD, is around 35 mmHg. LFDs are otherwise normal. BNP, 1000. WBC, 8. Hemoglobin, 10.4. Platelets, 250. EKG, shows sinus rhythm. Left bent bench block, prolonged QTC. Echocardiogram, shows LDL for 15 to 20%. Period. Asthma and planned thrombomal myocardial exacerbation of systole, heart failure. Next, the patient does not have any prior cardiac history. Patient is diagnosed with COVID infection a few months ago. Period. Patient has been having symptoms of dyspnea and leg swelling since that time. Period. No family history of premature serious heart attack. Period. Echocardiogram on the submission showed LDL for 15 to 20%. Patient is clinically volume moderate. Period. We'll diagnose him with Lasix 40 mg IV BID. And monitor response. Period. We'll start him on Lotus Metaprovolanilus Neutral. Period. Monitor cryogenic glucose closely. Period. Ischemic evaluation will be performed as an outpatient. Period. Thank you. That's end of cardiology. Consultation. \n"
          ]
        }
      ]
    },
    {
      "cell_type": "code",
      "source": [
        "transcription.text"
      ],
      "metadata": {
        "id": "nKp3b9FlQJ-W",
        "outputId": "acf70822-b2df-4394-a6f1-26d426f941f3",
        "colab": {
          "base_uri": "https://localhost:8080/",
          "height": 105
        }
      },
      "execution_count": null,
      "outputs": [
        {
          "output_type": "execute_result",
          "data": {
            "text/plain": [
              "\"This girl is the progress note for Mr. John Smith, SIN number 1, 2, 3, 4, 5, 6, 7, 8, 9, 0, 1, 2. This is Dr. Nagarajan. Date of service, 5-27-24. Recent concentration. Dyspnea and cough, Mr. Prasanna. This person, 70-year-old gentleman with history of diabetes mellitus, comma, heart disease, comma, under-sleep demand, comma, obesity, comma, history of colon cancer. Present to hospital with chest pain and symptoms of history of heart failure, period. Patient had echocardiogram, which showed LVF of 40%, and chest testing was significantly abnormal, period. Given cardiac catheterization, which showed multiple CAD. Patient is waiting to be transferred to Texas Medical Center for CABH evaluation, period. Patient denies any active chest pain and currently on Heparin drug, period. Troponin was mildly elevated, but slowing down, period. Patient denies any other issues, period. Past medical history, has no medical history with allergies. Penicillin, social history, occasional alcohol use, active smoker, no drug use, family history. Multiple family members had coronary heart disease. Triglyceride, aphrodisiac, is positive for chest pain. And dyspnea, comma, negative for nausea, vomiting, abdominal pain, and neurological symptoms. Examination, temperature 98.2, pulse 62 beats per minute, blood pressure. 110 over 66, saturation 98%. General patient alert oriented, comfortable, serious, regular, no murmur. Lungs, no reserve fractures, abdominal soft, no tendons, legs, no edema. CNS, no focal neurological risk, in normal. Labs, 31, 34, protoxin 3.2, BUN 14, creatinine 1.2, WBC 6.8, hemoglobin 12.2, platelets 186, troponin was elevated to 560 and trending down, period. Within that assessment plan, problem number one, non-heterogeneity elevation, myocardial fraction, acupuncture to chest pain, it was not a troponin elevation, period. Chest pain is classical for angina, and patient had EKG changes, period. A cardiogram showed a drop in LBEF, period. Stress was also significantly abnormal. Cardiac catheterization showed. Multivitral CAD, period. Patient is currently on Heparin drip and waiting to be transferred to Texas Medical Center for a CABG evaluation, period. PT surgery team is aware, period. Problem number two, coronary artery disease. Next in patient is at, sorry, problem number two, access to cell dysfunction. Next in the patient is not aware, new onset of cell dysfunction with LBEF around 40%, period, with slightly secondary ischemia, period. A patient has mild evidence of volume overload, period. Lasix for indigram IV, once daily given, period. Patient is on beta blockers, a normal NAC in vitro due to low blood pressure, period. Problem number three, hypertension. Maximum blood pressure is on the lower side, on metaprolol 21 million pure baby, period. If blood pressure tolerates, salicinopril could be added. Great, thank you. That's end of cardiology. Consultation note.\""
            ],
            "application/vnd.google.colaboratory.intrinsic+json": {
              "type": "string"
            }
          },
          "metadata": {},
          "execution_count": 4
        }
      ]
    },
    {
      "cell_type": "code",
      "source": [
        "sentences=transcription.text.split(\".\")\n",
        "sent_test = sentences[4:]\n",
        "result=[]"
      ],
      "metadata": {
        "id": "s-hSb0IjGihZ"
      },
      "execution_count": null,
      "outputs": []
    },
    {
      "cell_type": "code",
      "source": [
        "chat_completion = client.chat.completions.create(\n",
        "      model=\"gpt-4o\",\n",
        "      messages=[{\"role\": \"user\", \"content\": \"here is a sentence from a medical transcript obtained from an ASR. It might contains some error, for example, wrong medical term transcribed. Can you help me correct it by replacing the word that you think is most possibly wrong, with a word that you think is most possibly the right word in this context? It is mostly in the field of cardiology, so please try to relate to cardiological terms. For your output, please only out put your corrected sentence, without any reasoning or other statement. If you think it is correct already, leave it as the same. Here is the sentence: Pacemaker site, no bleeding or hematoma.\"}]\n",
        "  )\n",
        "print(chat_completion.choices[0].message.content)\n"
      ],
      "metadata": {
        "colab": {
          "base_uri": "https://localhost:8080/"
        },
        "id": "ymo12pSoWBaJ",
        "outputId": "467c5777-15af-49bf-e696-0223d188d300"
      },
      "execution_count": null,
      "outputs": [
        {
          "output_type": "stream",
          "name": "stdout",
          "text": [
            "Pacemaker site, no bleeding or edema.\n"
          ]
        }
      ]
    },
    {
      "cell_type": "code",
      "source": [
        "for sentence in sent_test:\n",
        "  print(\"testing sentence is: \", sentence)\n",
        "  chat_completion = client.chat.completions.create(\n",
        "      model=\"gpt-4o\",\n",
        "      messages=[{\"role\": \"user\", \"content\": \"here is a sentence from a medical transcript obtained from an ASR. It might contains some error, for example, wrong medical term transcribed. Can you help me correct it by replacing the word that you think is most possibly wrong, with a word that you think is most possibly the right word in this context? It is mostly in the field of cardiology, so please try to relate to cardiological terms. For your output, please only out put your corrected sentence, without any reasoning or other statement. Here is the sentence: \"+sentence}]\n",
        "  )\n",
        "  print(chat_completion.choices[0].message.content)\n",
        "  result+=[chat_completion.choices[0].message.content]"
      ],
      "metadata": {
        "colab": {
          "base_uri": "https://localhost:8080/"
        },
        "id": "rAKELm9rE2j9",
        "outputId": "a0e6f78d-ad40-4226-dbaf-174eecafb0e6"
      },
      "execution_count": null,
      "outputs": [
        {
          "output_type": "stream",
          "name": "stdout",
          "text": [
            "testing sentence is:   Date of service, 5-27-24\n",
            "Date of service, 5-27-22\n",
            "testing sentence is:   Recent concentration\n",
            "Recent consultation\n",
            "testing sentence is:   Dyspnea and cough, Mr\n",
            "Dyspnea and cough, Mr.\n",
            "testing sentence is:   Prasanna\n",
            "Prasugrel\n",
            "testing sentence is:   This person, 70-year-old gentleman with history of diabetes mellitus, comma, heart disease, comma, under-sleep demand, comma, obesity, comma, history of colon cancer\n",
            "This person, 70-year-old gentleman with history of diabetes mellitus, comma, heart disease, comma, undersleep apnea, comma, obesity, comma, history of colon cancer\n",
            "testing sentence is:   Present to hospital with chest pain and symptoms of history of heart failure, period\n",
            "Present to hospital with chest pain and symptoms of history of heart failure.\n",
            "testing sentence is:   Patient had echocardiogram, which showed LVF of 40%, and chest testing was significantly abnormal, period\n",
            "Patient had echocardiogram, which showed LVEF of 40%, and stress testing was significantly abnormal.\n",
            "testing sentence is:   Given cardiac catheterization, which showed multiple CAD\n",
            "Given cardiac catheterization, which showed multiple coronary artery diseases.\n",
            "testing sentence is:   Patient is waiting to be transferred to Texas Medical Center for CABH evaluation, period\n",
            "Patient is waiting to be transferred to Texas Medical Center for CABG evaluation, period.\n",
            "testing sentence is:   Patient denies any active chest pain and currently on Heparin drug, period\n",
            "Patient denies any active chest pain and is currently on heparin therapy, period.\n",
            "testing sentence is:   Troponin was mildly elevated, but slowing down, period\n",
            "Troponin was mildly elevated but trending down.\n",
            "testing sentence is:   Patient denies any other issues, period\n",
            "Patient denies any other ischemia, period.\n",
            "testing sentence is:   Past medical history, has no medical history with allergies\n",
            "Past medical history, has no significant history of allergies\n",
            "testing sentence is:   Penicillin, social history, occasional alcohol use, active smoker, no drug use, family history\n",
            "Penicillin, social history, occasional alcohol use, active smoker, no drug use, family history of cardiovascular disease.\n",
            "testing sentence is:   Multiple family members had coronary heart disease\n",
            "Multiple family members had coronary artery disease\n",
            "testing sentence is:   Triglyceride, aphrodisiac, is positive for chest pain\n",
            "Triglyceride, amiodarone, is positive for chest pain\n",
            "testing sentence is:   And dyspnea, comma, negative for nausea, vomiting, abdominal pain, and neurological symptoms\n",
            "And dyspnea, comma, negative for nausea, vomiting, abdominal pain, and neurological symptoms.\n",
            "testing sentence is:   Examination, temperature 98\n",
            "Examination, temperature 98°F.\n",
            "testing sentence is:  2, pulse 62 beats per minute, blood pressure\n",
            "2, pulse 62 beats per minute, blood pressure 120/80.\n",
            "testing sentence is:   110 over 66, saturation 98%\n",
            "110 over 60, saturation 98%\n",
            "testing sentence is:   General patient alert oriented, comfortable, serious, regular, no murmur\n",
            "General patient alert, oriented, comfortable, serious, regular, no murmurs.\n",
            "testing sentence is:   Lungs, no reserve fractures, abdominal soft, no tendons, legs, no edema\n",
            "Lungs, no respiratory distress, abdominal soft, no tenderness, legs, no edema\n",
            "testing sentence is:   CNS, no focal neurological risk, in normal\n",
            "CNS, no focal neurological deficit, in normal.\n",
            "testing sentence is:   Labs, 31, 34, protoxin 3\n",
            "Labs, 31, 34, troponin 3\n",
            "testing sentence is:  2, BUN 14, creatinine 1\n",
            "2, BUN 14, creatinine 1.0\n",
            "testing sentence is:  2, WBC 6\n",
            "WBC 6\n",
            "testing sentence is:  8, hemoglobin 12\n",
            "8, hemoglobin 12\n",
            "testing sentence is:  2, platelets 186, troponin was elevated to 560 and trending down, period\n",
            "2, platelets 186, troponin was elevated to 5.60 and trending down, period\n",
            "testing sentence is:   Within that assessment plan, problem number one, non-heterogeneity elevation, myocardial fraction, acupuncture to chest pain, it was not a troponin elevation, period\n",
            "Within that assessment plan, problem number one, non-ST elevation myocardial infarction, attribution to chest pain, it was not a troponin elevation.\n",
            "testing sentence is:   Chest pain is classical for angina, and patient had EKG changes, period\n",
            "Chest pain is classical for angina, and the patient had EKG changes.\n",
            "testing sentence is:   A cardiogram showed a drop in LBEF, period\n",
            "A cardiogram showed a drop in LVEF, period.\n",
            "testing sentence is:   Stress was also significantly abnormal\n",
            "Stress test was also significantly abnormal\n",
            "testing sentence is:   Cardiac catheterization showed\n",
            "Cardiac catheterization showed significant coronary artery disease.\n",
            "testing sentence is:   Multivitral CAD, period\n",
            "Multivessel CAD, period\n",
            "testing sentence is:   Patient is currently on Heparin drip and waiting to be transferred to Texas Medical Center for a CABG evaluation, period\n",
            "Patient is currently on Heparin drip and waiting to be transferred to Texas Medical Center for a CABG evaluation.\n",
            "testing sentence is:   PT surgery team is aware, period\n",
            "CT surgery team is aware, period.\n",
            "testing sentence is:   Problem number two, coronary artery disease\n",
            "Problem number two: coronary artery disease.\n",
            "testing sentence is:   Next in patient is at, sorry, problem number two, access to cell dysfunction\n",
            "Next in patient is at, sorry, problem number two, diastolic dysfunction.\n",
            "testing sentence is:   Next in the patient is not aware, new onset of cell dysfunction with LBEF around 40%, period, with slightly secondary ischemia, period\n",
            "Next, the patient is not aware of new onset of systolic dysfunction with LVEF around 40%, with slightly secondary ischemia.\n",
            "testing sentence is:   A patient has mild evidence of volume overload, period\n",
            "A patient has mild evidence of volume overload, per edema.\n",
            "testing sentence is:   Lasix for indigram IV, once daily given, period\n",
            "Lasix 40 milligrams IV, once daily given.\n",
            "testing sentence is:   Patient is on beta blockers, a normal NAC in vitro due to low blood pressure, period\n",
            "Patient is on beta blockers, a normal EKG in vitro due to low blood pressure, period.\n",
            "testing sentence is:   Problem number three, hypertension\n",
            "Problem number three, hypertrophy\n",
            "testing sentence is:   Maximum blood pressure is on the lower side, on metaprolol 21 million pure baby, period\n",
            "Maximum blood pressure is on the lower side, on metoprolol 25 milligrams per day, period.\n",
            "testing sentence is:   If blood pressure tolerates, salicinopril could be added\n",
            "If blood pressure tolerates, lisinopril could be added.\n",
            "testing sentence is:   Great, thank you\n",
            "Great, thank you.\n",
            "testing sentence is:   That's end of cardiology\n",
            "That's the end of cardiology.\n",
            "testing sentence is:   Consultation note\n",
            "Consultation note\n",
            "testing sentence is:  \n",
            "Please provide the sentence for me to correct.\n"
          ]
        }
      ]
    },
    {
      "cell_type": "code",
      "source": [
        "  chat_completion = client.chat.completions.create(\n",
        "      model=\"gpt-4o\",\n",
        "      messages=[{\"role\": \"user\", \"content\": \"here is a sentence from a medical transcript obtained from an ASR. It might contains some error, for example, wrong medical term transcribed. Can you help me correct it by replacing the word that you think is most possibly wrong, with a word that you think is most possibly the right word in this context? You can also add words or delete words. It is mostly in the field of cardiology, so please try to relate to cardiological terms. Here is the sentence: \"}]\n",
        "  )"
      ],
      "metadata": {
        "id": "Gqciud94FZzB"
      },
      "execution_count": null,
      "outputs": []
    },
    {
      "cell_type": "code",
      "source": [
        "chat_completion.choices[0].message.content"
      ],
      "metadata": {
        "colab": {
          "base_uri": "https://localhost:8080/",
          "height": 53
        },
        "id": "RdhTR0ZwJ1mx",
        "outputId": "a349138d-a984-495c-a776-83fd90af84a4"
      },
      "execution_count": null,
      "outputs": [
        {
          "output_type": "execute_result",
          "data": {
            "text/plain": [
              "'Sure, I can help with that. Here\\'s the corrected sentence:\\n\\n\"Patients with diuretic use do not necessarily have complete heart block, and the patient was not on any immunosuppressive agents.\"\\n\\nChanges made:\\n1. Replaced \"diuretic cardiac\" with \"diuretic use\" to make more sense.\\n2. Changed \"does not mean\" to \"do not necessarily have\" for clarity.\\n3. Replaced \"immunoblocking\" with \"immunosuppressive\" to use the correct medical term.'"
            ],
            "application/vnd.google.colaboratory.intrinsic+json": {
              "type": "string"
            }
          },
          "metadata": {},
          "execution_count": 25
        }
      ]
    },
    {
      "cell_type": "code",
      "source": [
        "final_text = ' '.join(result)\n",
        "final_text"
      ],
      "metadata": {
        "colab": {
          "base_uri": "https://localhost:8080/",
          "height": 105
        },
        "id": "QuUkAcY0B3TE",
        "outputId": "1b1901bd-bed9-41f1-ee95-62a26e4e1c5b"
      },
      "execution_count": null,
      "outputs": [
        {
          "output_type": "execute_result",
          "data": {
            "text/plain": [
              "\"Date of service, 5-27-22 Recent consultation Dyspnea and cough, Mr. Prasugrel This person, 70-year-old gentleman with history of diabetes mellitus, comma, heart disease, comma, undersleep apnea, comma, obesity, comma, history of colon cancer Present to hospital with chest pain and symptoms of history of heart failure. Patient had echocardiogram, which showed LVEF of 40%, and stress testing was significantly abnormal. Given cardiac catheterization, which showed multiple coronary artery diseases. Patient is waiting to be transferred to Texas Medical Center for CABG evaluation, period. Patient denies any active chest pain and is currently on heparin therapy, period. Troponin was mildly elevated but trending down. Patient denies any other ischemia, period. Past medical history, has no significant history of allergies Penicillin, social history, occasional alcohol use, active smoker, no drug use, family history of cardiovascular disease. Multiple family members had coronary artery disease Triglyceride, amiodarone, is positive for chest pain And dyspnea, comma, negative for nausea, vomiting, abdominal pain, and neurological symptoms. Examination, temperature 98°F. 2, pulse 62 beats per minute, blood pressure 120/80. 110 over 60, saturation 98% General patient alert, oriented, comfortable, serious, regular, no murmurs. Lungs, no respiratory distress, abdominal soft, no tenderness, legs, no edema CNS, no focal neurological deficit, in normal. Labs, 31, 34, troponin 3 2, BUN 14, creatinine 1.0 WBC 6 8, hemoglobin 12 2, platelets 186, troponin was elevated to 5.60 and trending down, period Within that assessment plan, problem number one, non-ST elevation myocardial infarction, attribution to chest pain, it was not a troponin elevation. Chest pain is classical for angina, and the patient had EKG changes. A cardiogram showed a drop in LVEF, period. Stress test was also significantly abnormal Cardiac catheterization showed significant coronary artery disease. Multivessel CAD, period Patient is currently on Heparin drip and waiting to be transferred to Texas Medical Center for a CABG evaluation. CT surgery team is aware, period. Problem number two: coronary artery disease. Next in patient is at, sorry, problem number two, diastolic dysfunction. Next, the patient is not aware of new onset of systolic dysfunction with LVEF around 40%, with slightly secondary ischemia. A patient has mild evidence of volume overload, per edema. Lasix 40 milligrams IV, once daily given. Patient is on beta blockers, a normal EKG in vitro due to low blood pressure, period. Problem number three, hypertrophy Maximum blood pressure is on the lower side, on metoprolol 25 milligrams per day, period. If blood pressure tolerates, lisinopril could be added. Great, thank you. That's the end of cardiology. Consultation note Please provide the sentence for me to correct.\""
            ],
            "application/vnd.google.colaboratory.intrinsic+json": {
              "type": "string"
            }
          },
          "metadata": {},
          "execution_count": 8
        }
      ]
    }
  ],
  "metadata": {
    "accelerator": "GPU",
    "colab": {
      "provenance": [],
      "include_colab_link": true
    },
    "gpuClass": "standard",
    "kernelspec": {
      "display_name": "Python 3 (ipykernel)",
      "language": "python",
      "name": "python3"
    },
    "language_info": {
      "codemirror_mode": {
        "name": "ipython",
        "version": 3
      },
      "file_extension": ".py",
      "mimetype": "text/x-python",
      "name": "python",
      "nbconvert_exporter": "python",
      "pygments_lexer": "ipython3",
      "version": "3.9.9"
    }
  },
  "nbformat": 4,
  "nbformat_minor": 0
}